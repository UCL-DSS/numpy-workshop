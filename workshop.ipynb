{
 "cells": [
  {
   "cell_type": "markdown",
   "metadata": {},
   "source": [
    "# DS01 - Data Science with Python: NumPy\n",
    "\n",
    "Welcome to our first workshop in ***Data Science with Python*** series!\n",
    "In this workshop we start to introduce our first Python package called NumPy. Packages often contain a lot of useful in-built functions. Numpy focuses on a lot of mathmatical functionality much of which we will omit or reserve for further work.\n",
    "\n",
    "> **Arthur**: Zhaoxuan \"Tony\" Wu - Head of Science, UCL Data Science Society (tony.wu.19@ucl.ac.uk)\n",
    ">\n",
    "> **Last Modification**: 08 Oct 2020\n",
    ">\n",
    "> ***Proudly presented by the UCL Data Science Society***"
   ]
  },
  {
   "cell_type": "markdown",
   "metadata": {},
   "source": [
    "In this workshop we will cover:\n",
    "\n",
    "## 1) [What is Numpy](#win)\n",
    "## 2) [Numpy arrays](#na)\n",
    "## 3) [Mathematical Operations](#mo)\n",
    "## 4) [Random Numbers](#rn)\n",
    "\n",
    "\n",
    "Where there are also some futher work at the bottom covering\n",
    "\n",
    "\n",
    "## 1) [Complex Numbers](#cn)\n",
    "## 2) [Other ways of making arrays](#oma)\n",
    "## 3) [Matrix operations](#mo)\n",
    "\n",
    "\n",
    "But first:"
   ]
  },
  {
   "cell_type": "markdown",
   "metadata": {},
   "source": [
    "## Software Prerequisite\n",
    "You will need `numpy` package for the workshop. You will need to install _NumPy_."
   ]
  },
  {
   "cell_type": "markdown",
   "metadata": {},
   "source": [
    "If you are using `conda` or you have installed `Anaconda` and launched the jupyter notebook from `Anaconda` \n",
    "\n",
    "> **Tips**: hit `Shift`+`Enter` to execute a **Code Block**"
   ]
  },
  {
   "cell_type": "code",
   "execution_count": null,
   "metadata": {},
   "outputs": [],
   "source": [
    "#!conda install numpy"
   ]
  },
  {
   "cell_type": "markdown",
   "metadata": {},
   "source": [
    "***Otherwise***, `pip` is usually pre-installed if you are using Python 3. Use `pip` to install _NumPy_."
   ]
  },
  {
   "cell_type": "code",
   "execution_count": null,
   "metadata": {},
   "outputs": [],
   "source": [
    "#!pip3 install numpy"
   ]
  },
  {
   "cell_type": "markdown",
   "metadata": {},
   "source": [
    "<a id = \"win\"></a>"
   ]
  },
  {
   "cell_type": "markdown",
   "metadata": {},
   "source": [
    "## What Is _NumPy_?\n",
    "\n",
    "_NumPy_ (Numerical Python), accoding to [numpy.org](https://numpy.org/devdocs/user/absolute_beginners.html), is a..\n",
    "\n",
    "> ...is an open source Python library that’s used in almost **every field of science and engineering**. It’s the universal standard for working with **numerical data** in Python, and it’s at the core of the **scientific Python and PyData ecosystems**.\n",
    "\n",
    "> ...The NumPy library contains **multidimensional array and matrix data structures** (you’ll find more information about this in later sections). It provides `ndarray`, a homogeneous n-dimensional array object, with methods to efficiently operate on it. NumPy can be used to perform a wide variety of **mathematical operations on arrays**. It adds powerful data structures to Python that guarantee **efficient calculations** with **arrays and matrices** and it supplies an enormous library of high-level mathematical functions that operate on these arrays and matrices.\n",
    "\n",
    "### Why?\n",
    "\n",
    "#### Matrix Multiplication for $3 \\times 3$ matrices\n",
    "\n",
    "Try to work out the following matrix multiplication:\n",
    "\n",
    "Matrix A...\n",
    "$$\n",
    "\\begin{bmatrix} \n",
    "5 & 7 & 2 \\\\\n",
    "-2 & 3 & 6\\\\\n",
    "5 & 8 & 1 \n",
    "\\end{bmatrix}\n",
    "$$\n",
    "...multiplied by Matrix B\n",
    "$$\n",
    "\\begin{bmatrix} \n",
    "1 & 2 & 3 \\\\\n",
    "-4 & 5 & 6\\\\\n",
    "9 & 8 & 7 \n",
    "\\end{bmatrix}\n",
    "$$\n",
    "\n",
    "And ***count*** how many **multiplications of two integers** you had to conduct during this multiplication.\n",
    "\n",
    "> **Hint**: the definition of a matrix multiplication is $ c_{ij} = \\sum_{k=1}^ma_{ik}b_{kj}$, $C = AB$ where $A$ is an $n \\times m$ matrix and $B$ is an $m \\times p$ matrix\n",
    "\n",
    "#### What happens when $m, n, p$ are extremely high? \n",
    "\n",
    "- When will this happen? \n",
    "- How many **multiplications**?\n",
    "- Any optimisation methods available?"
   ]
  },
  {
   "cell_type": "markdown",
   "metadata": {},
   "source": [
    "## Importing Numpy\n",
    "Firstly, we will have to import Numpy. Here we will import Numpy as `np` so whenever we write `np.function` the code will look for the specified `function` in the Numpy module. \n",
    "\n",
    "> **Tips**: It is common practice to import all necessary modules at the start of your code.\n",
    "\n",
    "> **Tips**: if you see `ModuleNotFoundError: No module named 'numpy'`, it means you haven't installed it or it is not installed properly"
   ]
  },
  {
   "cell_type": "code",
   "execution_count": null,
   "metadata": {},
   "outputs": [],
   "source": [
    "# Importing Numpy\n",
    "import numpy as np"
   ]
  },
  {
   "cell_type": "markdown",
   "metadata": {},
   "source": [
    "<a id =\"na\"></a>"
   ]
  },
  {
   "cell_type": "markdown",
   "metadata": {},
   "source": [
    "## Numpy Arrays\n",
    "Probably the most important feature from Numpy is the array. These are similar to lists although Numpy provides a great deal of functionality which we will be utilising in the workshops. Using this functionality enables you to perform various operations on large sets of data.\n",
    "\n",
    "### Generating Arrays\n",
    "There are many ways you can generate arrays. Some of these methods are displayed below.\n",
    "\n",
    "#### [np.array](https://numpy.org/doc/1.19/reference/generated/numpy.array.html?highlight=array#numpy.array)\n",
    "This command turns a list into a numpy array."
   ]
  },
  {
   "cell_type": "code",
   "execution_count": null,
   "metadata": {},
   "outputs": [],
   "source": [
    "# Generates an array [1 2 3]\n",
    "x = np.array([1,2,3])\n",
    "print(x)\n",
    "\n",
    "# Generates an array [[1 2 3] [4 5 6]]\n",
    "x = np.array([[1,2,3],[4,5,6]])\n",
    "print(x)"
   ]
  },
  {
   "cell_type": "markdown",
   "metadata": {},
   "source": [
    "> **Commen Error**: `x = np.array(1, 2, 3)` is wrong while `x = np.array([1, 2, 3])` is right, why?"
   ]
  },
  {
   "cell_type": "markdown",
   "metadata": {},
   "source": [
    "#### [np.linspace](https://numpy.org/doc/1.19/reference/generated/numpy.linspace.html?highlight=linspace#numpy.linspace)\n",
    "The function ````np.linspace```` has three arguments: startpoint, endpoint and number of points. The first number $0$ tells the kernal to start from $0$ while the second number tells it to end at $10$. The $5$ indicates the number of values in the array. The array will be created with an evenly spaced set of values starting from $0$ ending at $10$."
   ]
  },
  {
   "cell_type": "code",
   "execution_count": null,
   "metadata": {},
   "outputs": [],
   "source": [
    "# Generates an array [0 2.5 5 7.5 10]\n",
    "x = np.linspace(0,10,5)\n",
    "print(x)"
   ]
  },
  {
   "cell_type": "markdown",
   "metadata": {},
   "source": [
    "#### [np.arange](https://numpy.org/doc/1.19/reference/generated/numpy.arange.html?highlight=arange#numpy.arange)\n",
    "With ````np.arange```` three arguments are passed. The first, $0$ indicates the start point. The second argument, $11$ indicates the end point however it is not inclusive! The end point it actually the integer before the second argument; in this case $10$. The last argument indicates the spacing between each value. In this case the input is $1$ so as can be seen from the output each value is spaced accordingly."
   ]
  },
  {
   "cell_type": "code",
   "execution_count": null,
   "metadata": {},
   "outputs": [],
   "source": [
    "# Generates an array [1 2 3 4 5 6 7 8 9 10]\n",
    "x = np.arange(0,11,1)\n",
    "print(x)"
   ]
  },
  {
   "cell_type": "markdown",
   "metadata": {},
   "source": [
    "#### [np.zeros](https://numpy.org/doc/1.19/reference/generated/numpy.zeros.html?highlight=zeros#numpy.zeros) and [np.ones](https://numpy.org/doc/1.19/reference/generated/numpy.ones.html?highlight=ones#numpy.ones)\n",
    "In terms of producing arrays of a specific size these are probably your most useful choice. However, unless you're working entirely with zeros or ones you'll have to fill them first. These arrays interpret the arguments in passed through them in the same way. The number inside for the functions to produce the first two arrays simply specifies how many values are in your array. With ````np.zeros```` all these values are $0$ while with ````np.ones```` the values are $1$. For arrays with more dimensions one **needs** to have another set of brackets with the size of each dimension seperated by commas. "
   ]
  },
  {
   "cell_type": "code",
   "execution_count": null,
   "metadata": {},
   "outputs": [],
   "source": [
    "# Generats an array [0, 0.] in float64\n",
    "x = np.zeros(2)\n",
    "print(\"1st: \", x)\n",
    "\n",
    "# Generates an array [1 1 1] in integer\n",
    "x = np.ones(3, int)\n",
    "print(\"\\nSecond: \", x)\n",
    "\n",
    "# Generates an 3x3 array of zeros\n",
    "x = np.zeros((3,3))\n",
    "print(\"\\nThird: \\n\", x)\n",
    "\n",
    "# Generates an 3x3 array of ones in integer\n",
    "x = np.zeros((3,3), int)\n",
    "print(\"\\nFourth: \\n\", x)"
   ]
  },
  {
   "cell_type": "markdown",
   "metadata": {},
   "source": [
    "### Exercise 1: Creating arrays "
   ]
  },
  {
   "cell_type": "code",
   "execution_count": null,
   "metadata": {},
   "outputs": [],
   "source": [
    "# # Create array from 0.1 to 10 with 12 elements, inclusively\n",
    "# x = \n",
    "# print(\"Create array from 0.1 to 10 with 12 elements, inclusively: \", x)\n",
    "\n",
    "# # Create array from 1 to 10 with 9 elements, exclusively\n",
    "# x = \n",
    "# print(\"\\nCreate array from 1 to 10 with 9 elements, exclusively: \", x)\n",
    "\n",
    "# # Matrix with seven columns and five rows of zeros\n",
    "# x = \n",
    "# print(\"\\nMatrix with seven columns and five rows: \\n\", x)\n",
    "\n",
    "# # Create a matrix which looks like:\n",
    "# #\n",
    "# #     | 1 0 0 |\n",
    "# #     | 0 1 0 |\n",
    "# #     | 0 0 1 |\n",
    "# #\n",
    "# # BONUS: name the matrix :)\n",
    "# x = \n",
    "# name_of_the_matrix = \"I don't know :(\"\n",
    "# print (\"\"\"\\nMy matrix: \\n %s \\n It is called an \"%s\" \"\"\"%(x, name_of_the_matrix))"
   ]
  },
  {
   "cell_type": "markdown",
   "metadata": {
    "collapsed": true
   },
   "source": [
    "#### Lists and Arrays?\n",
    "As you can see by the output, arrays at the very least look like lists. So what are the differences and similarities?\n",
    "\n"
   ]
  },
  {
   "cell_type": "code",
   "execution_count": null,
   "metadata": {},
   "outputs": [],
   "source": [
    "a = [1, 2, 3]\n",
    "print(\"Type A: \", type(a))\n",
    "\n",
    "b = np.array([1, 2, 3])\n",
    "print(\"Type B: \", type(b))\n",
    "\n",
    "print(\"Type A[1]\", type(a[1]))\n",
    "print(\"Type B[1]\", type(b[1]))\n",
    "# Or\n",
    "print(\"Type B[1] (Alternatively)\", b[1].dtype)"
   ]
  },
  {
   "cell_type": "markdown",
   "metadata": {},
   "source": [
    "#### Slicing\n",
    "Both arrays and lists can be sliced."
   ]
  },
  {
   "cell_type": "code",
   "execution_count": null,
   "metadata": {},
   "outputs": [],
   "source": [
    "# Creating a list \n",
    "x = [0,1,2,3,4,5]\n",
    "\n",
    "# Slicing the list\n",
    "print(x[3])\n",
    "\n",
    "# Turning the list into an array\n",
    "x = np.array(x)\n",
    "\n",
    "# Slicing the array\n",
    "print(x[3])"
   ]
  },
  {
   "cell_type": "markdown",
   "metadata": {},
   "source": [
    "What about arrays with more dimensions? When slicing a 2D array you select by rows and columns. If you want to return a particular row then you simply specify ````x[n]````, where ````n```` is the row index (remember Python starts counting from zero so ````n```` is the row number minus $1$) and ````x```` is the array to be sliced. To select a particular column you would write ````x[:,n]````. Here the colon specifies that we are selecting all the rows and ````n```` selects a column. When picking a particular value you write ````x[row index,column index]````. Arrays with more dimensions will have more indexes but we will not discuss these. \n",
    "\n",
    "Presented here is an example first of a $3\\times3$ array. Then the slices of the array are placed in the same position as the array value they would return. If I had an array that looked something like: $$x =\\begin{pmatrix} 1 & 0 & 3 \\\\ 4 & 5 & 0 \\\\ 9 & 2 & 0 \\end{pmatrix}$$ then slices of each of these array values would look something like this: $$\\begin{pmatrix} x[0,0] & x[0,1] & x[0,2] \\\\ x[1,0] & x[1,1] & x[1,2] \\\\ x[2,0] & x[2,1] & x[2,2] \\end{pmatrix}$$"
   ]
  },
  {
   "cell_type": "code",
   "execution_count": null,
   "metadata": {},
   "outputs": [],
   "source": [
    "# Creates an array [[0 1 2] [3 4 5]]\n",
    "x = np.array([[0,1,2],[3,4,5]])\n",
    "print(x)\n",
    "\n",
    "# First row\n",
    "print(\"First row:\", x[0])\n",
    "\n",
    "# Second row\n",
    "print(\"Second row:\", x[1])\n",
    "\n",
    "# Second column\n",
    "print(\"Second column:\", x[:,1])\n",
    "\n",
    "# First row, third column \n",
    "print(\"First row, third column:\", x[0,2])"
   ]
  },
  {
   "cell_type": "markdown",
   "metadata": {},
   "source": [
    "### Exercise 2 : Slicing\n",
    "\n",
    "Below the $3\\times3$ array from the text cell above is defined to be variable ````x````. Print slices of the diagonal components of the array (from left going down to right) in the same ````print```` statement. Then print a slice of a smaller array consisting of the array that would be left if you removed the first row and first column."
   ]
  },
  {
   "cell_type": "code",
   "execution_count": null,
   "metadata": {},
   "outputs": [],
   "source": [
    "# Creates the array seen in the text above\n",
    "x = np.array([[1,0,3],[4,5,0],[9,2,0]])\n",
    "print(x)\n",
    "\n",
    "# Print the diagonal components\n",
    "\n",
    "\n",
    "# Array with first row and column removed\n"
   ]
  },
  {
   "cell_type": "markdown",
   "metadata": {},
   "source": [
    "<a id = \"mo\"></a>"
   ]
  },
  {
   "cell_type": "markdown",
   "metadata": {},
   "source": [
    "## Mathmatical Operations\n",
    "Mathmatical operations behave differently when applied to lists then they do to arrays. In fact many of the operations **cannot** be applied to lists or in the case of addition one needs to add another list. Examples are shown below."
   ]
  },
  {
   "cell_type": "code",
   "execution_count": null,
   "metadata": {},
   "outputs": [],
   "source": [
    "# Defining a list\n",
    "x = [0, 1, 2, 3, 4, 5]\n",
    "\n",
    "# Multiply list by 2\n",
    "print(\"List multiplied by 2:\", x*2)\n",
    "\n",
    "# List added to a list\n",
    "print(\"List added to a list:\", x + x)"
   ]
  },
  {
   "cell_type": "code",
   "execution_count": null,
   "metadata": {},
   "outputs": [],
   "source": [
    "# Turns list into array\n",
    "x = np.array(x)\n",
    "\n",
    "# Multiply array by 2\n",
    "print(\"Array multiplied by 2:\", x*2)\n",
    "\n",
    "# Adding 2 to array\n",
    "print(\"Adding 2 to array:\", x + 2)\n",
    "\n",
    "# Adding array to array\n",
    "print(\"Adding array to array:\", x + x)\n",
    "\n",
    "# Multiplying array to array (a.k.a squaring it)\n",
    "print(\"Squaring an array:\", x * x)"
   ]
  },
  {
   "cell_type": "markdown",
   "metadata": {
    "collapsed": true
   },
   "source": [
    "As can be seen multiplying a list by a number effectively repeats the list by the number its been multiplied by. Adding two lists simply attaches the second list to the end of the first. It can clearly be seen the same behaviour does not apply to arrays. Instead multiplying by a number multiplies each number in that array and adding a number to an array adds that number to each number in the array. Adding two arrays together results in values with the same position in that array being added together.\n",
    "\n",
    "#### Useful Functions\n",
    "Below is a list of useful functions which can be applied to arrays. "
   ]
  },
  {
   "cell_type": "code",
   "execution_count": null,
   "metadata": {},
   "outputs": [],
   "source": [
    "# Creating an array\n",
    "x = np.array([3,2,1,0])\n",
    "\n",
    "# Finds the sum of all values in the array\n",
    "print(\"Sum of the values:\", np.sum(x))\n",
    "\n",
    "# Finds the average of all values in the array\n",
    "print(\"Average of the values:\", np.mean(x))\n",
    "\n",
    "# Sorts the values in the array into ascending order\n",
    "print(\"Sorted values:\", np.sort(x))\n",
    "\n",
    "# Returns the maximimun value in the array\n",
    "print(\"Maximum value:\", np.max(x))\n",
    "\n",
    "# Returns the minimum value in the array\n",
    "print(\"Minimum value:\", np.min(x))\n",
    "\n",
    "# Returns the standard deviation\n",
    "print(\"Standard deviation:\", np.std(x))\n",
    "\n",
    "# Returns the variance \n",
    "print(\"Variance:\", np.var(x))\n",
    "\n",
    "# Returns the size of the array\n",
    "print(\"Size:\", np.size(x))\n",
    "\n",
    "# Returns the shape of the array\n",
    "# which is a tuple of ints giving the lengths of the corresponding array dimensions\n",
    "print(\"Shape:\", np.shape(x))\n",
    "\n",
    "# Multi-dimensional array\n",
    "y = np.array([[1, 2, 3], [4, 5, 6,], [4, 5, 6,]])\n",
    "print(\"Shape of y:\", np.shape(y))"
   ]
  },
  {
   "cell_type": "markdown",
   "metadata": {},
   "source": [
    "#### [np.roll](https://numpy.org/devdocs/reference/generated/numpy.roll.html?highlight=roll#numpy.roll)\n",
    "\n",
    "This function is used to shift values along the array. For a one dimensional array you'll need two arguments: the array itself and then the shift. The shift determines how many indexes each value is moved along. A minus sign changes the direction. Example shifts are shown below."
   ]
  },
  {
   "cell_type": "code",
   "execution_count": null,
   "metadata": {},
   "outputs": [],
   "source": [
    "# Creates an array\n",
    "x = np.array([1,2,3,4,5])\n",
    "\n",
    "# Shifts array values by 1 to the right\n",
    "print(np.roll(x,1))\n",
    "\n",
    "# Shifts array values by 3 to the left\n",
    "print(np.roll(x,-3))"
   ]
  },
  {
   "cell_type": "markdown",
   "metadata": {},
   "source": [
    "#### [np.append](https://numpy.org/devdocs/reference/generated/numpy.append.html?highlight=append#numpy.append)\n",
    "\n",
    "The first argument is an array. The second argument is the array to be attached to the end of the first."
   ]
  },
  {
   "cell_type": "code",
   "execution_count": null,
   "metadata": {},
   "outputs": [],
   "source": [
    "# Creates arrays\n",
    "x = np.array([1,2,3,4,5])\n",
    "y = np.array([6,7,8,9,10])\n",
    "\n",
    "# Attaches one array to the end of another\n",
    "print(np.append(x,y))"
   ]
  },
  {
   "cell_type": "markdown",
   "metadata": {},
   "source": [
    "#### [np.concatenate](https://numpy.org/devdocs/reference/generated/numpy.concatenate.html?highlight=concatenate#numpy.concatenate)\n",
    "\n",
    "Similar to append but this will attach multiple arrays together. Note the need for an additional pair of brackets!"
   ]
  },
  {
   "cell_type": "code",
   "execution_count": null,
   "metadata": {},
   "outputs": [],
   "source": [
    "# Creates arrays\n",
    "x = np.array([1,2,3,4,5])\n",
    "\n",
    "y = np.array([6,7,8,9,10])\n",
    "\n",
    "print(np.concatenate((x,y,x,y)))"
   ]
  },
  {
   "cell_type": "markdown",
   "metadata": {},
   "source": [
    "#### [np.reshape](https://numpy.org/devdocs/reference/generated/numpy.reshape.html?highlight=reshape#numpy.reshape)\n",
    "\n",
    "This function passes the array to be reshaped as the first argument, then in brackets the dimensions you want to reshape it to. Invalid choices for your dimensions will lead to an error."
   ]
  },
  {
   "cell_type": "code",
   "execution_count": null,
   "metadata": {},
   "outputs": [],
   "source": [
    "# Creates array\n",
    "x = np.array([1,2,3,4,5,6])\n",
    "\n",
    "# Reshapes the array\n",
    "print(np.reshape(x,(3,2)))"
   ]
  },
  {
   "cell_type": "markdown",
   "metadata": {},
   "source": [
    "### Mathmatical Functions and Constants\n",
    "In addition to the functions above, which are generally used on arrays, there are commonly used mathmatical functions and constants. Below are a few of these.\n",
    "\n",
    "> **Quick Reminder**: $e^0 = 1$ and thus $\\ln1 = 0$"
   ]
  },
  {
   "cell_type": "code",
   "execution_count": null,
   "metadata": {},
   "outputs": [],
   "source": [
    "# Pi - NOT A FUNCTION\n",
    "print(\"Pi:\", np.pi)\n",
    "\n",
    "# Square root function\n",
    "print(\"Square root:\", np.sqrt(9))\n",
    "\n",
    "# Trigonometric functions (default input is in radians)\n",
    "print(\"Sine:\", np.sin(np.pi/2))\n",
    "print(\"Cosine:\", np.cos(0))\n",
    "\n",
    "# Natural Constant e\n",
    "print(\"e:\", np.e)\n",
    "\n",
    "# Exponential (input is the power)\n",
    "print(\"Exponential:\", np.exp(0))\n",
    "\n",
    "# Natural logarithm ln\n",
    "print(\"ln:\", np.log(1))\n",
    "\n",
    "# A complex number 1+2i \n",
    "print(\"Complex Number:\", np.complex(1, 2))"
   ]
  },
  {
   "cell_type": "markdown",
   "metadata": {
    "collapsed": true
   },
   "source": [
    "## Redefining Array Variables\n",
    "By slicing one can redefine array variables. This is done by defining the slice of the array as what you wish it to be defined as. You can use loops to run over specific slices of an array in order to change the values of that array. Often it is useful to use the ````len```` function which returns the length of the array along one axis in order to loop over it. Examples are shown below."
   ]
  },
  {
   "cell_type": "code",
   "execution_count": null,
   "metadata": {},
   "outputs": [],
   "source": [
    "# Creating a 3x3 array of zeros\n",
    "x = np.zeros((3,3))"
   ]
  },
  {
   "cell_type": "code",
   "execution_count": null,
   "metadata": {},
   "outputs": [],
   "source": [
    "# Filling the diagonal components of the array \n",
    "x[0,0] = 1 \n",
    "x[1,1] = 2\n",
    "x[2,2] = 3\n",
    "\n",
    "x"
   ]
  },
  {
   "cell_type": "code",
   "execution_count": null,
   "metadata": {},
   "outputs": [],
   "source": [
    "# Creates new array with 100 zero values\n",
    "x = np.zeros(100)"
   ]
  },
  {
   "cell_type": "code",
   "execution_count": null,
   "metadata": {},
   "outputs": [],
   "source": [
    "# Here we loop over the length of the array using len(x) to find the length of x\n",
    "for i in range(len(x)):\n",
    "    # Redfines current value of the array as current value of i\n",
    "    x[i] = i\n",
    "\n",
    "x"
   ]
  },
  {
   "cell_type": "markdown",
   "metadata": {},
   "source": [
    "### Exercise 3a: Modifying Your _1darray_\n",
    "Create a 1D array of ones consisting of $50$ values. Change the values of the array so that the values alternate between ones and zeros ie $1,0,1,0,1,0,1,0,1...$ ensuring that the starting value is $1$. Think about what sort of loop and/or conditional statement you might need. \n",
    "\n",
    "> **Hint:** Some approaches might require mod operator `%`"
   ]
  },
  {
   "cell_type": "code",
   "execution_count": null,
   "metadata": {},
   "outputs": [],
   "source": [
    "# Create an 1D array of 50 ones\n",
    "\n",
    "# Loop over array values and mutate some values\n",
    "\n",
    "# Output"
   ]
  },
  {
   "cell_type": "markdown",
   "metadata": {},
   "source": [
    "### Exercise 3b: Modifying Your _2darray_\n",
    "1. Generate a $10\\times10$ matrix of zeros\n",
    "2. Make this matrix an identity matrix\n",
    "\n",
    "> **Hint**: An ***identity matrix*** is a matrix that all elements are 0s except for the diagonal elements, which are 1s"
   ]
  },
  {
   "cell_type": "code",
   "execution_count": null,
   "metadata": {},
   "outputs": [],
   "source": [
    "# Create a 2D array of 10x10 zeros\n",
    "\n",
    "# Loop through the array values and mutate the diagonal items\n",
    "\n",
    "# Output\n"
   ]
  },
  {
   "cell_type": "markdown",
   "metadata": {},
   "source": [
    "<a id =\"rn\"></a>"
   ]
  },
  {
   "cell_type": "markdown",
   "metadata": {},
   "source": [
    "### Random Numbers \n",
    "Numpy can be used to generate random numbers. Two functions for this are shown below.\n",
    "\n",
    "#### [np.random.random](https://numpy.org/devdocs/reference/random/generated/numpy.random.random.html?highlight=random#numpy.random.random)\n",
    "\n",
    "This returns random float numbers from half-open interval $[0.0, 1.0)$. If no argument is passed it will just be one number but if you pass an the dimensions for an array in another set of brackets it creates a whole array of random numbers."
   ]
  },
  {
   "cell_type": "code",
   "execution_count": null,
   "metadata": {},
   "outputs": [],
   "source": [
    "# Generates a random number from 0 to 1, exclusively\n",
    "print(np.random.random())\n",
    "\n",
    "# Generate 6 random number from 0 to 1, exclusively\n",
    "print(np.random.random(6))\n",
    "\n",
    "# Generates an array of random numbers for a 3x3 array\n",
    "print(np.random.random((3,3)))"
   ]
  },
  {
   "cell_type": "markdown",
   "metadata": {},
   "source": [
    "### Exercise 4: Generate 10 random numbers from hald-open interval $[0.0, 15.0)$\n",
    "\n",
    "> **Hint:** Mathematically, how do you scale up the interval $[0.0, 1.0)$ to $[0.0, 15.0)$"
   ]
  },
  {
   "cell_type": "code",
   "execution_count": null,
   "metadata": {},
   "outputs": [],
   "source": []
  },
  {
   "cell_type": "markdown",
   "metadata": {},
   "source": [
    "#### [np.random.randint](https://numpy.org/devdocs/reference/random/generated/numpy.random.randint.html?highlight=randint#numpy.random.randint)\n",
    "\n",
    "This returns random integers in a specified range. The first value is the lowest possible value while the second input is one higher than the highest possible value. The third input is the dimensions of an array (in brackets) to be filled with random integers. "
   ]
  },
  {
   "cell_type": "code",
   "execution_count": null,
   "metadata": {},
   "outputs": [],
   "source": [
    "# Generates a random number from 1 to 6\n",
    "print(np.random.randint(1, 7))\n",
    "\n",
    "# Generates a 3x3 array of random integers from 1 to 6\n",
    "print(np.random.randint(1, 7, (3,3)))\n",
    "\n",
    "# 9x4 array of random integers from 10 to 25\n",
    "print(np.random.randint(10, 26, (9,4)))"
   ]
  },
  {
   "cell_type": "markdown",
   "metadata": {},
   "source": [
    "## Further Work (Optional)"
   ]
  },
  {
   "cell_type": "markdown",
   "metadata": {},
   "source": [
    "<a id = \"cn\"></a>"
   ]
  },
  {
   "cell_type": "markdown",
   "metadata": {},
   "source": [
    "\n",
    "\n",
    "### Complex Numbers \n",
    "If you wish to fill arrays with complex numbers you need to pass an additional argument when creating the array (If you are converting a list with a complex number already inside you need not do this). The problem is the data type of values in arrays you create is normally float so this leads to an error when trying to redefine it as a complex number as the complex number can't be converted to a float. To resolve this use the additional argument ````dtype=complex```` when generating your array."
   ]
  },
  {
   "cell_type": "code",
   "execution_count": null,
   "metadata": {},
   "outputs": [],
   "source": [
    "# Generates a 3x3 array of zeros\n",
    "x = np.zeros((3,3))\n",
    "\n",
    "# Trying to convert a value to a complex number\n",
    "x[0,0] = 1 + 1j"
   ]
  },
  {
   "cell_type": "code",
   "execution_count": null,
   "metadata": {},
   "outputs": [],
   "source": [
    "# Generates a 3x3 array of zeros\n",
    "x = np.zeros((3,3),dtype=complex)\n",
    "\n",
    "# Trying to convert a value to a complex number\n",
    "x[0,0] = 1 + 1j\n",
    "\n",
    "# Outputs result\n",
    "print(x)"
   ]
  },
  {
   "cell_type": "markdown",
   "metadata": {},
   "source": [
    "<a id = \"oma\"></a>"
   ]
  },
  {
   "cell_type": "markdown",
   "metadata": {},
   "source": [
    "### Other Ways of Making Arrays\n",
    "In addition to the functions above there are more functions that can be used to create arrays.\n",
    "\n",
    "#### [np.logspace](https://numpy.org/devdocs/reference/generated/numpy.logspace.html?highlight=logspace#numpy.logspace)\n",
    "\n",
    "This is similar to ````np.linspace```` however this works on a logarithmic scale (base $10$ by default). The first argument indicates the starting power, the second argument indicates the highest power and the third argument is the number of points. These points are evenly spaced on the logarithmic scale."
   ]
  },
  {
   "cell_type": "code",
   "execution_count": null,
   "metadata": {},
   "outputs": [],
   "source": [
    "# Creates an array of values using the logarithmic scale (base 10)\n",
    "x = np.logspace(0,3,4)\n",
    "print(x)"
   ]
  },
  {
   "cell_type": "markdown",
   "metadata": {},
   "source": [
    "#### [np.meshgrid]()\n",
    "This is a way of generating a set of 2D arrays from two already existing arrays. Usually this technique is used when generating a 2D grid of points."
   ]
  },
  {
   "cell_type": "code",
   "execution_count": null,
   "metadata": {},
   "outputs": [],
   "source": [
    "# Defining two arrays of different lengths\n",
    "x = np.linspace(0,10,11)\n",
    "print(\"x =\", x)\n",
    "\n",
    "y = np.linspace(0,5,6)\n",
    "print(\"y =\", y)\n",
    "\n",
    "# Generating a 2D grid\n",
    "x2D, y2D = np.meshgrid(x,y)\n",
    "\n",
    "# Outputting the 2D arrays\n",
    "print(x2D)\n",
    "print(y2D)"
   ]
  },
  {
   "cell_type": "markdown",
   "metadata": {},
   "source": [
    "<a id = \"mo\"></a>"
   ]
  },
  {
   "cell_type": "markdown",
   "metadata": {},
   "source": [
    "## More Mathmatical Operators\n",
    "Arrays in Numpy are often used to represent mathmatical objects called vectors and matrices. Arrays with one dimension can represent vectors while arrays with two dimensions can be used to represent matrices. One can also use arrays with more dimensions. Multiplying arrays together multiplies values in equivalent positions in each array together. Those of you taking maths courses will know this is not how vectors behave! The same is true of matrices. Luckily Numpy has in-built functions that allow us to properly apply operations to vectors and matrices. \n",
    "### Absolute Value of a Vector\n",
    "The magnitute of a vector is defined as: $$|\\textbf{a}| = \\sqrt{a^{2}_{1} + a^{2}_{2} + a^{2}_{3}} $$ "
   ]
  },
  {
   "cell_type": "code",
   "execution_count": null,
   "metadata": {},
   "outputs": [],
   "source": [
    "# Creates a vector [4 3 0]\n",
    "a = np.array([4,3,0])\n",
    "\n",
    "# Magnitude of the vector\n",
    "print(np.linalg.norm(a))"
   ]
  },
  {
   "cell_type": "markdown",
   "metadata": {},
   "source": [
    "### Scalar/Dot Product\n",
    "The scalar product between two vectors is defined as: $$\\textbf{a}\\cdot\\textbf{b} = \\sum_{i} a_i b_i, $$\n",
    "$$\\begin{pmatrix} a_1 \\\\ a_2 \\\\a_3 \\end{pmatrix} \\cdot \\begin{pmatrix} b_1 \\\\ b_2 \\\\b_3 \\end{pmatrix} = a_1 b_1 + a_2 b_2 + c_1 c_2, $$\n",
    "$$\\begin{pmatrix} 4 \\\\ 3 \\\\-1 \\end{pmatrix} \\cdot \\begin{pmatrix} 1 \\\\ 3 \\\\ 2  \\end{pmatrix} = (4\\times 1) + (3\\times 3)+(-1\\times 2) = 11.$$"
   ]
  },
  {
   "cell_type": "code",
   "execution_count": null,
   "metadata": {},
   "outputs": [],
   "source": [
    "# Creates arrays/vectors a and b\n",
    "a = np.array([4,3,-1])\n",
    "print(\"a =\",a)\n",
    "\n",
    "b = np.array([1,3,2])\n",
    "print(\"b =\",b)\n",
    "\n",
    "# Dot product between the two vectors\n",
    "print(\"a.b =\", np.dot(a,b))"
   ]
  },
  {
   "cell_type": "markdown",
   "metadata": {},
   "source": [
    "### Matrix Multiplication \n",
    "Matrix multiplication is in effect a dot product between two matrices and so uses ````np.dot````. Matrix multiplication for a matrix **A** and **B** works as follows: $$ \\textbf{A} \\textbf{B} = \\sum_{j} a_{ij} b_{jk} $$ $$ \\begin{pmatrix} a_{11} & a_{12} \\\\ a_{21} & a_{22} \\end{pmatrix} \\begin{pmatrix} b_{11} & b_{12} \\\\ b_{21} & b_{22} \\end{pmatrix} = \\begin{pmatrix} a_{11}b_{11}+a_{12}b_{21} & a_{11}b_{12}+a_{12}b_{22} \\\\ a_{21}b_{11}+a_{22}b_{21} & a_{21}b_{12}+a_{22}b_{22} \\end{pmatrix} $$ $$ \\begin{pmatrix} 4 & 0 \\\\ 0 & 2 \\end{pmatrix} \\begin{pmatrix} 0 & 1 \\\\ 3 & 2 \\end{pmatrix} = \\begin{pmatrix} (4\\times 0)+(0\\times 3) & (4\\times 1)+(0\\times 2) \\\\ (0\\times 0)+(2\\times 3) & (0\\times 1)+(2\\times 2) \\end{pmatrix} = \\begin{pmatrix} 0 & 4 \\\\ 6 & 4 \\end{pmatrix}$$"
   ]
  },
  {
   "cell_type": "code",
   "execution_count": null,
   "metadata": {},
   "outputs": [],
   "source": [
    "# Creates arrays/vectors a and b\n",
    "A = np.array([[4,0],[0,2]])\n",
    "print(A)\n",
    "\n",
    "B = np.array([[0,1],[3,2]])\n",
    "print(B)\n",
    "\n",
    "# Dot product between the two vectors\n",
    "print(np.dot(A,B))"
   ]
  },
  {
   "cell_type": "markdown",
   "metadata": {},
   "source": [
    "### Vector/Cross Product \n",
    "The vector product between two vectors is defined as: $$\\begin{pmatrix} a_1 \\\\ a_2 \\\\a_3 \\end{pmatrix} \\times \\begin{pmatrix} b_1 \\\\ b_2 \\\\b_3 \\end{pmatrix} = \\begin{pmatrix} a_2 b_3 - a_3 b_2 \\\\ a_3 b_1 - a_2 b_1 \\\\ a_1 b_2 - a_2 b_1 \\end{pmatrix}, $$ $$\\begin{pmatrix} 1 \\\\ 0 \\\\0 \\end{pmatrix} \\times \\begin{pmatrix} 0 \\\\ 1 \\\\ 0 \\end{pmatrix} = \\begin{pmatrix} (0\\times 0) - (0\\times 1) \\\\ (0\\times 0) - (0\\times 0) \\\\ (1\\times 1) - (0\\times 0) \\end{pmatrix} = \\begin{pmatrix} 0 \\\\ 0 \\\\ 1 \\end{pmatrix}. $$"
   ]
  },
  {
   "cell_type": "code",
   "execution_count": null,
   "metadata": {},
   "outputs": [],
   "source": [
    "# Creates arrays/vectors a and b\n",
    "a = np.array([1,0,0])\n",
    "print(\"a =\",a)\n",
    "\n",
    "b = np.array([0,1,0])\n",
    "print(\"b =\",b)\n",
    "\n",
    "# Cross product between the two vectors\n",
    "print(\"a x b =\", np.cross(a,b))"
   ]
  },
  {
   "cell_type": "markdown",
   "metadata": {},
   "source": [
    "### Tensor/Outer Product\n",
    "The tensor/outer product has between two vectors is defined below: $$ \\textbf{a}\\otimes\\textbf{b}=a_i b_j = c_{ij} $$\n",
    "$$ \\begin{pmatrix} a_1 \\\\ a_2 \\\\ a_3 \\end{pmatrix} \\otimes \\begin{pmatrix} b_1 \\\\ b_2 \\\\ b_3 \\end{pmatrix} = \\begin{pmatrix} a_1 b_1 & a_1 b_2 & a_1 b_3 \\\\ a_2 b_1 & a_2 b_2 & a_2 b_3 \\\\ a_3 b_1 & a_3 b_2 & a_3 b_3 \\end{pmatrix} $$ $$ \\begin{pmatrix} 0 \\\\ 2 \\\\ 1 \\end{pmatrix} \\otimes \\begin{pmatrix} 5 \\\\ 0 \\\\ 1 \\end{pmatrix} = \\begin{pmatrix} 0\\times 5 & 0\\times 0 & 0\\times 1 \\\\ 2\\times 5 & 2\\times 0 & 2\\times 1 \\\\ 1\\times 5 & 1\\times 0 & 1\\times 1  \\end{pmatrix}  = \\begin{pmatrix} 0 & 0 & 0 \\\\ 10 & 0 & 2 \\\\ 5 & 0 & 1 \\end{pmatrix} $$ "
   ]
  },
  {
   "cell_type": "code",
   "execution_count": null,
   "metadata": {},
   "outputs": [],
   "source": [
    "# Creates arrays/vectors a and b\n",
    "a = np.array([0,2,1])\n",
    "print(\"a =\",a)\n",
    "\n",
    "b = np.array([5,0,1])\n",
    "print(\"b =\",b)\n",
    "\n",
    "# Outer product between the two vectors\n",
    "print(np.outer(a,b))"
   ]
  },
  {
   "cell_type": "markdown",
   "metadata": {},
   "source": [
    "### Matrix Inversion\n",
    "One can find the inverse of a matrix as follows."
   ]
  },
  {
   "cell_type": "code",
   "execution_count": null,
   "metadata": {},
   "outputs": [],
   "source": [
    "# Creates an matrix \n",
    "x = np.array([[0,1],[-1,0]])\n",
    "print(x)\n",
    "\n",
    "# Inverses the matrix\n",
    "print(np.linalg.inv(x))"
   ]
  },
  {
   "cell_type": "markdown",
   "metadata": {},
   "source": [
    "### Eigenvalues \n",
    "The eigenvalues of a matrix may be found as follows:"
   ]
  },
  {
   "cell_type": "code",
   "execution_count": null,
   "metadata": {},
   "outputs": [],
   "source": [
    "# Creates a matrix \n",
    "x = np.array([[0,1,2],[1j,1+1j,0],[2j,0,2+2j]])\n",
    "print(x)\n",
    "\n",
    "print(np.linalg.eigvals(x))"
   ]
  },
  {
   "cell_type": "markdown",
   "metadata": {},
   "source": [
    "These are just a few examples of what can be done with Numpy and there are many more not covered in the workshops. If you ever want to look for a function for a mathmatical operation not covered here you can always try searching it online. If Numpy doesn't have it you may need to look at another package like Scipy or simply code it yourself."
   ]
  }
 ],
 "metadata": {
  "kernelspec": {
   "display_name": "Python 3 (ipykernel)",
   "language": "python",
   "name": "python3"
  },
  "language_info": {
   "codemirror_mode": {
    "name": "ipython",
    "version": 3
   },
   "file_extension": ".py",
   "mimetype": "text/x-python",
   "name": "python",
   "nbconvert_exporter": "python",
   "pygments_lexer": "ipython3",
   "version": "3.9.6"
  }
 },
 "nbformat": 4,
 "nbformat_minor": 2
}
